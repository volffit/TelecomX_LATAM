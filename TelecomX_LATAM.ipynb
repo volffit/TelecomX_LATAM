{
  "nbformat": 4,
  "nbformat_minor": 0,
  "metadata": {
    "colab": {
      "provenance": []
    },
    "kernelspec": {
      "name": "python3",
      "display_name": "Python 3"
    },
    "language_info": {
      "name": "python"
    }
  },
  "cells": [
    {
      "cell_type": "markdown",
      "source": [
        "#📌 Extracción"
      ],
      "metadata": {
        "id": "4foVEKhrlqcH"
      }
    },
    {
      "cell_type": "code",
      "source": [
        "import pandas as pd\n",
        "import json\n",
        "\n",
        "# Cargar el archivo JSON\n",
        "with open('TelecomX_Data.json', 'r') as f:\n",
        "    data = json.load(f)\n",
        "\n",
        "# Convertir los datos a un DataFrame de Pandas\n",
        "# Usamos json_normalize para aplanar la estructura anidada del JSON\n",
        "df_raw = pd.json_normalize(data)\n",
        "\n",
        "# Visualizar las primeras filas del DataFrame\n",
        "print(\"Datos extraídos exitosamente. Primeras 5 filas:\")\n",
        "print(df_raw.head())"
      ],
      "metadata": {
        "id": "1--uPM88l7JH",
        "colab": {
          "base_uri": "https://localhost:8080/"
        },
        "outputId": "555847dc-6295-4376-8a7e-87329d7adf03"
      },
      "execution_count": 1,
      "outputs": [
        {
          "output_type": "stream",
          "name": "stdout",
          "text": [
            "Datos extraídos exitosamente. Primeras 5 filas:\n",
            "   customerID Churn customer.gender  customer.SeniorCitizen customer.Partner  \\\n",
            "0  0002-ORFBO    No          Female                       0              Yes   \n",
            "1  0003-MKNFE    No            Male                       0               No   \n",
            "2  0004-TLHLJ   Yes            Male                       0               No   \n",
            "3  0011-IGKFF   Yes            Male                       1              Yes   \n",
            "4  0013-EXCHZ   Yes          Female                       1              Yes   \n",
            "\n",
            "  customer.Dependents  customer.tenure phone.PhoneService phone.MultipleLines  \\\n",
            "0                 Yes                9                Yes                  No   \n",
            "1                  No                9                Yes                 Yes   \n",
            "2                  No                4                Yes                  No   \n",
            "3                  No               13                Yes                  No   \n",
            "4                  No                3                Yes                  No   \n",
            "\n",
            "  internet.InternetService  ... internet.OnlineBackup  \\\n",
            "0                      DSL  ...                   Yes   \n",
            "1                      DSL  ...                    No   \n",
            "2              Fiber optic  ...                    No   \n",
            "3              Fiber optic  ...                   Yes   \n",
            "4              Fiber optic  ...                    No   \n",
            "\n",
            "  internet.DeviceProtection internet.TechSupport internet.StreamingTV  \\\n",
            "0                        No                  Yes                  Yes   \n",
            "1                        No                   No                   No   \n",
            "2                       Yes                   No                   No   \n",
            "3                       Yes                   No                  Yes   \n",
            "4                        No                  Yes                  Yes   \n",
            "\n",
            "  internet.StreamingMovies account.Contract account.PaperlessBilling  \\\n",
            "0                       No         One year                      Yes   \n",
            "1                      Yes   Month-to-month                       No   \n",
            "2                       No   Month-to-month                      Yes   \n",
            "3                      Yes   Month-to-month                      Yes   \n",
            "4                       No   Month-to-month                      Yes   \n",
            "\n",
            "  account.PaymentMethod account.Charges.Monthly  account.Charges.Total  \n",
            "0          Mailed check                    65.6                  593.3  \n",
            "1          Mailed check                    59.9                  542.4  \n",
            "2      Electronic check                    73.9                 280.85  \n",
            "3      Electronic check                    98.0                1237.85  \n",
            "4          Mailed check                    83.9                  267.4  \n",
            "\n",
            "[5 rows x 21 columns]\n"
          ]
        }
      ]
    },
    {
      "cell_type": "markdown",
      "source": [
        "#🔧 Transformación"
      ],
      "metadata": {
        "id": "1lSZP8zmmGZu"
      }
    },
    {
      "cell_type": "code",
      "source": [
        "# --- Transformación de Datos ---\n",
        "\n",
        "# Copiamos el dataframe para mantener el original intacto\n",
        "df_transformed = df_raw.copy()\n",
        "\n",
        "# 1. Corregir la columna 'account.Charges.Total'\n",
        "# Convertir a numérico, los errores (espacios vacíos) se convertirán en NaT (Not a Time) -> NaN\n",
        "df_transformed['account.Charges.Total'] = pd.to_numeric(df_transformed['account.Charges.Total'], errors='coerce')\n",
        "\n",
        "# 2. Manejar valores nulos\n",
        "# Rellenamos los valores nulos en 'account.Charges.Total' con 0\n",
        "df_transformed['account.Charges.Total'] = df_transformed['account.Charges.Total'].fillna(0)\n",
        "\n",
        "# 3. Renombrar columnas para simplificar\n",
        "df_transformed.columns = [\n",
        "    'customerID', 'Churn', 'gender', 'SeniorCitizen', 'Partner', 'Dependents',\n",
        "    'tenure', 'PhoneService', 'MultipleLines', 'InternetService', 'OnlineSecurity',\n",
        "    'OnlineBackup', 'DeviceProtection', 'TechSupport', 'StreamingTV',\n",
        "    'StreamingMovies', 'Contract', 'PaperlessBilling', 'PaymentMethod',\n",
        "    'MonthlyCharges', 'TotalCharges'\n",
        "]\n",
        "\n",
        "# Verificar la información del DataFrame transformado\n",
        "print(\"\\nInformación del DataFrame después de la transformación:\")\n",
        "df_transformed.info()\n",
        "\n",
        "# Visualizar las primeras filas del DataFrame transformado\n",
        "print(\"\\nPrimeras 5 filas del DataFrame limpio:\")\n",
        "print(df_transformed.head())"
      ],
      "metadata": {
        "id": "bsm-WTLjmHvt",
        "colab": {
          "base_uri": "https://localhost:8080/"
        },
        "outputId": "c8f354c1-7f0d-4c5f-b614-144a1324a14b"
      },
      "execution_count": 4,
      "outputs": [
        {
          "output_type": "stream",
          "name": "stdout",
          "text": [
            "\n",
            "Información del DataFrame después de la transformación:\n",
            "<class 'pandas.core.frame.DataFrame'>\n",
            "RangeIndex: 7267 entries, 0 to 7266\n",
            "Data columns (total 21 columns):\n",
            " #   Column            Non-Null Count  Dtype  \n",
            "---  ------            --------------  -----  \n",
            " 0   customerID        7267 non-null   object \n",
            " 1   Churn             7267 non-null   object \n",
            " 2   gender            7267 non-null   object \n",
            " 3   SeniorCitizen     7267 non-null   int64  \n",
            " 4   Partner           7267 non-null   object \n",
            " 5   Dependents        7267 non-null   object \n",
            " 6   tenure            7267 non-null   int64  \n",
            " 7   PhoneService      7267 non-null   object \n",
            " 8   MultipleLines     7267 non-null   object \n",
            " 9   InternetService   7267 non-null   object \n",
            " 10  OnlineSecurity    7267 non-null   object \n",
            " 11  OnlineBackup      7267 non-null   object \n",
            " 12  DeviceProtection  7267 non-null   object \n",
            " 13  TechSupport       7267 non-null   object \n",
            " 14  StreamingTV       7267 non-null   object \n",
            " 15  StreamingMovies   7267 non-null   object \n",
            " 16  Contract          7267 non-null   object \n",
            " 17  PaperlessBilling  7267 non-null   object \n",
            " 18  PaymentMethod     7267 non-null   object \n",
            " 19  MonthlyCharges    7267 non-null   float64\n",
            " 20  TotalCharges      7267 non-null   float64\n",
            "dtypes: float64(2), int64(2), object(17)\n",
            "memory usage: 1.2+ MB\n",
            "\n",
            "Primeras 5 filas del DataFrame limpio:\n",
            "   customerID Churn  gender  SeniorCitizen Partner Dependents  tenure  \\\n",
            "0  0002-ORFBO    No  Female              0     Yes        Yes       9   \n",
            "1  0003-MKNFE    No    Male              0      No         No       9   \n",
            "2  0004-TLHLJ   Yes    Male              0      No         No       4   \n",
            "3  0011-IGKFF   Yes    Male              1     Yes         No      13   \n",
            "4  0013-EXCHZ   Yes  Female              1     Yes         No       3   \n",
            "\n",
            "  PhoneService MultipleLines InternetService  ... OnlineBackup  \\\n",
            "0          Yes            No             DSL  ...          Yes   \n",
            "1          Yes           Yes             DSL  ...           No   \n",
            "2          Yes            No     Fiber optic  ...           No   \n",
            "3          Yes            No     Fiber optic  ...          Yes   \n",
            "4          Yes            No     Fiber optic  ...           No   \n",
            "\n",
            "  DeviceProtection TechSupport StreamingTV StreamingMovies        Contract  \\\n",
            "0               No         Yes         Yes              No        One year   \n",
            "1               No          No          No             Yes  Month-to-month   \n",
            "2              Yes          No          No              No  Month-to-month   \n",
            "3              Yes          No         Yes             Yes  Month-to-month   \n",
            "4               No         Yes         Yes              No  Month-to-month   \n",
            "\n",
            "  PaperlessBilling     PaymentMethod MonthlyCharges  TotalCharges  \n",
            "0              Yes      Mailed check           65.6        593.30  \n",
            "1               No      Mailed check           59.9        542.40  \n",
            "2              Yes  Electronic check           73.9        280.85  \n",
            "3              Yes  Electronic check           98.0       1237.85  \n",
            "4              Yes      Mailed check           83.9        267.40  \n",
            "\n",
            "[5 rows x 21 columns]\n"
          ]
        }
      ]
    },
    {
      "cell_type": "markdown",
      "source": [
        "#📊 Carga y análisis"
      ],
      "metadata": {
        "id": "6XnTC2NTmMRL"
      }
    },
    {
      "cell_type": "code",
      "source": [
        "import matplotlib.pyplot as plt\n",
        "import seaborn as sns\n",
        "\n",
        "# Configuración de estilo para los gráficos\n",
        "sns.set_style(\"whitegrid\")\n",
        "\n",
        "# Analizando la relación entre el tipo de contrato y la cancelación (Churn)\n",
        "plt.figure(figsize=(10, 6))\n",
        "sns.countplot(data=df_transformed, x='Contract', hue='Churn', palette='viridis')\n",
        "plt.title('Tasa de Cancelación por Tipo de Contrato', fontsize=16)\n",
        "plt.xlabel('Tipo de Contrato', fontsize=12)\n",
        "plt.ylabel('Cantidad de Clientes', fontsize=12)\n",
        "plt.legend(title='Churn')\n",
        "plt.show()"
      ],
      "metadata": {
        "id": "1jgUnLqTmPdd",
        "colab": {
          "base_uri": "https://localhost:8080/",
          "height": 572
        },
        "outputId": "6561dd9a-d59e-4d8e-a050-4cfe4090c82e"
      },
      "execution_count": 3,
      "outputs": [
        {
          "output_type": "display_data",
          "data": {
            "text/plain": [
              "<Figure size 1000x600 with 1 Axes>"
            ],
            "image/png": "[encoded data removed]"
          },
          "metadata": {}
        }
      ]
    },
    {
      "cell_type": "markdown",
      "source": [
        "#📄Informe final"
      ],
      "metadata": {
        "id": "v-WzfSvTmaw9"
      }
    },
    {
      "cell_type": "markdown",
      "source": [
        "Este gráfico inicial ya nos da una pista importante: los clientes con contratos mes a mes tienen una probabilidad mucho más alta de cancelar el servicio en comparación con aquellos con contratos anuales.\n",
        "\n",
        "Hemos completado exitosamente la fase de ETL. El DataFrame df_transformed está preparado para que el equipo de Data Science pueda profundizar en el análisis, identificar los factores clave de la evasión y, finalmente, desarrollar modelos predictivos para ayudar a Telecom X a retener a sus valiosos clientes."
      ],
      "metadata": {
        "id": "i5B7Ybmlngcl"
      }
    }
  ]
}